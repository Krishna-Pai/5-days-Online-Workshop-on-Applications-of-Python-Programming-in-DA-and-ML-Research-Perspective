{
 "cells": [
  {
   "cell_type": "markdown",
   "metadata": {},
   "source": [
    "Write a program to print the triangle "
   ]
  },
  {
   "cell_type": "markdown",
   "metadata": {},
   "source": [
    "1. Enter number 4"
   ]
  },
  {
   "cell_type": "code",
   "execution_count": 1,
   "metadata": {},
   "outputs": [
    {
     "name": "stdout",
     "output_type": "stream",
     "text": [
      "\n",
      "1  \n",
      "2  3  \n",
      "3  4  5  \n",
      "4  5  6  7  \n"
     ]
    }
   ],
   "source": [
    "n=4;\n",
    "for i in range(n+1):\n",
    "    for j in range(i,i+i):\n",
    "        print (j,\" \" , end=\"\")\n",
    "    print('')"
   ]
  },
  {
   "cell_type": "markdown",
   "metadata": {},
   "source": [
    "2. Enter number 4"
   ]
  },
  {
   "cell_type": "code",
   "execution_count": 2,
   "metadata": {},
   "outputs": [
    {
     "name": "stdout",
     "output_type": "stream",
     "text": [
      "\n",
      "* \n",
      "* * \n",
      "* * * \n",
      "* * * * \n"
     ]
    }
   ],
   "source": [
    "n=4;\n",
    "for i in range(n+1):\n",
    "    for j in range(i):\n",
    "        print ('* ', end=\"\")\n",
    "    print('')"
   ]
  },
  {
   "cell_type": "markdown",
   "metadata": {},
   "source": [
    "3. Enter number 5"
   ]
  },
  {
   "cell_type": "code",
   "execution_count": 3,
   "metadata": {},
   "outputs": [
    {
     "name": "stdout",
     "output_type": "stream",
     "text": [
      "5  \n",
      "4  5  \n",
      "3  4  5  \n",
      "2  3  4  5  \n",
      "1  2  3  4  5  \n"
     ]
    }
   ],
   "source": [
    "n=5;\n",
    "for i in range(n,0,-1):\n",
    "    for j in range(i,n+1):\n",
    "        print (j,\" \" , end=\"\")\n",
    "    print('')"
   ]
  },
  {
   "cell_type": "markdown",
   "metadata": {},
   "source": [
    "4. Enter number 5"
   ]
  },
  {
   "cell_type": "code",
   "execution_count": 4,
   "metadata": {},
   "outputs": [
    {
     "name": "stdout",
     "output_type": "stream",
     "text": [
      "5  4  3  2  1  \n",
      "4  3  2  1  \n",
      "3  2  1  \n",
      "2  1  \n",
      "1  \n"
     ]
    }
   ],
   "source": [
    "n=5;\n",
    "for i in range(n,0,-1):\n",
    "    for j in range(i,i-i,-1):\n",
    "        print (j,\" \" , end=\"\")\n",
    "    print('')"
   ]
  },
  {
   "cell_type": "markdown",
   "metadata": {},
   "source": [
    "5. Enter number 4"
   ]
  },
  {
   "cell_type": "code",
   "execution_count": 5,
   "metadata": {},
   "outputs": [
    {
     "name": "stdout",
     "output_type": "stream",
     "text": [
      "1  2  3  4  \n",
      "2  3  4  \n",
      "3  4  \n",
      "4  \n",
      "3  4  \n",
      "2  3  4  \n",
      "1  2  3  4  \n"
     ]
    }
   ],
   "source": [
    "n=4;\n",
    "\n",
    "for i in range(1,n):\n",
    "    for j in range(i,n+1):\n",
    "        print(j,\" \", end=\"\")\n",
    "    print('')\n",
    "    \n",
    "for i in range(n,0,-1):\n",
    "    for j in range(i,n+1):\n",
    "        print (j,\" \" , end=\"\")\n",
    "    print('')"
   ]
  },
  {
   "cell_type": "markdown",
   "metadata": {},
   "source": [
    "6. Find the length of a string without using len functions"
   ]
  },
  {
   "cell_type": "code",
   "execution_count": 6,
   "metadata": {},
   "outputs": [
    {
     "name": "stdout",
     "output_type": "stream",
     "text": [
      "Enter a string: India is great. India is my country.\n",
      "Length of the string is : 36\n"
     ]
    }
   ],
   "source": [
    "count = 0\n",
    "str = input(\"Enter a string: \")\n",
    "\n",
    "for i in str: \n",
    "    count+= 1\n",
    "\n",
    "print(\"Length of the string is :\", count) "
   ]
  },
  {
   "cell_type": "markdown",
   "metadata": {},
   "source": [
    "7. Find the no of words and characters in a string"
   ]
  },
  {
   "cell_type": "code",
   "execution_count": 7,
   "metadata": {},
   "outputs": [
    {
     "name": "stdout",
     "output_type": "stream",
     "text": [
      "Enter a string: India is great. India is my country.\n",
      "Number of words in the string:  7\n",
      "Number of characters in the string:  36\n"
     ]
    }
   ],
   "source": [
    "str= input(\"Enter a string: \")\n",
    "c = 0\n",
    "w = 1\n",
    "for i in str:\n",
    "    c = c + 1\n",
    "    if(i==' '):\n",
    "        w = w + 1\n",
    "print(\"Number of words in the string: \", w)\n",
    "print(\"Number of characters in the string: \", c)"
   ]
  },
  {
   "cell_type": "markdown",
   "metadata": {},
   "source": [
    "8. Find the no of occurrences of a word in a string"
   ]
  },
  {
   "cell_type": "code",
   "execution_count": 8,
   "metadata": {},
   "outputs": [
    {
     "name": "stdout",
     "output_type": "stream",
     "text": [
      "Enter a string: India is great. India is my country.\n",
      "Enter the word of which occurrence is to be counted: India\n",
      "Number of Occurrences of a all the words in a string are  {'India': 2, 'is': 2, 'great.': 1, 'my': 1, 'country.': 1}\n",
      "The occurrence of the word 'India' is 2\n"
     ]
    }
   ],
   "source": [
    "str = input(\"Enter a string: \")\n",
    "str1 = input(\"Enter the word of which occurrence is to be counted: \")\n",
    "c = dict()\n",
    "w = str.split()\n",
    "\n",
    "for n in w:\n",
    "    if n in c:\n",
    "        c[n] += 1\n",
    "    else:\n",
    "        c[n] = 1\n",
    "\n",
    "print(\"Number of Occurrences of a all the words in a string are \",c)\n",
    "print(\"The occurrence of the word '{}' is {}\".format(str1, c[str1]))"
   ]
  },
  {
   "cell_type": "code",
   "execution_count": null,
   "metadata": {},
   "outputs": [],
   "source": []
  }
 ],
 "metadata": {
  "kernelspec": {
   "display_name": "Python 3",
   "language": "python",
   "name": "python3"
  },
  "language_info": {
   "codemirror_mode": {
    "name": "ipython",
    "version": 3
   },
   "file_extension": ".py",
   "mimetype": "text/x-python",
   "name": "python",
   "nbconvert_exporter": "python",
   "pygments_lexer": "ipython3",
   "version": "3.7.6"
  }
 },
 "nbformat": 4,
 "nbformat_minor": 4
}
