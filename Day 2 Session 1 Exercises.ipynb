{
 "cells": [
  {
   "cell_type": "markdown",
   "metadata": {},
   "source": [
    "1. Print multiples of 3 upto 200 using a list"
   ]
  },
  {
   "cell_type": "code",
   "execution_count": 1,
   "metadata": {},
   "outputs": [
    {
     "name": "stdout",
     "output_type": "stream",
     "text": [
      "[3, 6, 9, 12, 15, 18, 21, 24, 27, 30, 33, 36, 39, 42, 45, 48, 51, 54, 57, 60, 63, 66, 69, 72, 75, 78, 81, 84, 87, 90, 93, 96, 99, 102, 105, 108, 111, 114, 117, 120, 123, 126, 129, 132, 135, 138, 141, 144, 147, 150, 153, 156, 159, 162, 165, 168, 171, 174, 177, 180, 183, 186, 189, 192, 195, 198]\n"
     ]
    }
   ],
   "source": [
    "mul = []\n",
    "for i in range(1,67):\n",
    "    mul.append(3*i)\n",
    "print(mul)"
   ]
  },
  {
   "cell_type": "markdown",
   "metadata": {},
   "source": [
    "2. Print the nos only divisible by 5 and 7 between 1000 and 2000 using a list( both inclusive)"
   ]
  },
  {
   "cell_type": "code",
   "execution_count": 2,
   "metadata": {},
   "outputs": [
    {
     "name": "stdout",
     "output_type": "stream",
     "text": [
      "[1000, 1001, 1005, 1008, 1010, 1015, 1020, 1022, 1025, 1029, 1030, 1035, 1036, 1040, 1043, 1045, 1050, 1055, 1057, 1060, 1064, 1065, 1070, 1071, 1075, 1078, 1080, 1085, 1090, 1092, 1095, 1099, 1100, 1105, 1106, 1110, 1113, 1115, 1120, 1125, 1127, 1130, 1134, 1135, 1140, 1141, 1145, 1148, 1150, 1155, 1160, 1162, 1165, 1169, 1170, 1175, 1176, 1180, 1183, 1185, 1190, 1195, 1197, 1200, 1204, 1205, 1210, 1211, 1215, 1218, 1220, 1225, 1230, 1232, 1235, 1239, 1240, 1245, 1246, 1250, 1253, 1255, 1260, 1265, 1267, 1270, 1274, 1275, 1280, 1281, 1285, 1288, 1290, 1295, 1300, 1302, 1305, 1309, 1310, 1315, 1316, 1320, 1323, 1325, 1330, 1335, 1337, 1340, 1344, 1345, 1350, 1351, 1355, 1358, 1360, 1365, 1370, 1372, 1375, 1379, 1380, 1385, 1386, 1390, 1393, 1395, 1400, 1405, 1407, 1410, 1414, 1415, 1420, 1421, 1425, 1428, 1430, 1435, 1440, 1442, 1445, 1449, 1450, 1455, 1456, 1460, 1463, 1465, 1470, 1475, 1477, 1480, 1484, 1485, 1490, 1491, 1495, 1498, 1500, 1505, 1510, 1512, 1515, 1519, 1520, 1525, 1526, 1530, 1533, 1535, 1540, 1545, 1547, 1550, 1554, 1555, 1560, 1561, 1565, 1568, 1570, 1575, 1580, 1582, 1585, 1589, 1590, 1595, 1596, 1600, 1603, 1605, 1610, 1615, 1617, 1620, 1624, 1625, 1630, 1631, 1635, 1638, 1640, 1645, 1650, 1652, 1655, 1659, 1660, 1665, 1666, 1670, 1673, 1675, 1680, 1685, 1687, 1690, 1694, 1695, 1700, 1701, 1705, 1708, 1710, 1715, 1720, 1722, 1725, 1729, 1730, 1735, 1736, 1740, 1743, 1745, 1750, 1755, 1757, 1760, 1764, 1765, 1770, 1771, 1775, 1778, 1780, 1785, 1790, 1792, 1795, 1799, 1800, 1805, 1806, 1810, 1813, 1815, 1820, 1825, 1827, 1830, 1834, 1835, 1840, 1841, 1845, 1848, 1850, 1855, 1860, 1862, 1865, 1869, 1870, 1875, 1876, 1880, 1883, 1885, 1890, 1895, 1897, 1900, 1904, 1905, 1910, 1911, 1915, 1918, 1920, 1925, 1930, 1932, 1935, 1939, 1940, 1945, 1946, 1950, 1953, 1955, 1960, 1965, 1967, 1970, 1974, 1975, 1980, 1981, 1985, 1988, 1990, 1995, 2000]\n"
     ]
    }
   ],
   "source": [
    "mul = []\n",
    "for i in range(1000,2001):\n",
    "    if i%5 == 0 or i%7 == 0:\n",
    "        mul.append(i)\n",
    "print(mul)"
   ]
  },
  {
   "cell_type": "markdown",
   "metadata": {},
   "source": [
    "3. Add the n number of names in a list and print them alphabetically and reverse alphabetically."
   ]
  },
  {
   "cell_type": "code",
   "execution_count": 3,
   "metadata": {},
   "outputs": [
    {
     "name": "stdout",
     "output_type": "stream",
     "text": [
      "Enter number of names: 4\n",
      "Enter name: Krishna\n",
      "Enter name: Abhi\n",
      "Enter name: Jack\n",
      "Enter name: Rose\n",
      "The alphabetically words are:\n",
      "Abhi\n",
      "Jack\n",
      "Krishna\n",
      "Rose\n",
      "The reverse alphabetically words are:\n",
      "Rose\n",
      "Krishna\n",
      "Jack\n",
      "Abhi\n"
     ]
    }
   ],
   "source": [
    "name = []\n",
    "n = int(input(\"Enter number of names: \"))\n",
    "for i in range(n):\n",
    "    num = input(\"Enter name: \")\n",
    "    name.append(num)\n",
    "name.sort()\n",
    "print(\"The alphabetically words are:\")\n",
    "for i in name:\n",
    "    print(i)\n",
    "name.reverse()\n",
    "print(\"The reverse alphabetically words are:\")\n",
    "for i in name:\n",
    "    print(i)"
   ]
  },
  {
   "cell_type": "markdown",
   "metadata": {},
   "source": [
    "4. Print perfect squares and divisible by 5 between 500 and 1000( (both inclusive) using list"
   ]
  },
  {
   "cell_type": "code",
   "execution_count": 4,
   "metadata": {},
   "outputs": [
    {
     "name": "stdout",
     "output_type": "stream",
     "text": [
      "[625, 900]\n"
     ]
    }
   ],
   "source": [
    "import math\n",
    "div = []\n",
    "for i in range(500, 1001):\n",
    "    if (i%5 == 0) and (int(math.sqrt(i) + 0.5) ** 2 == i):\n",
    "        div.append(i)\n",
    "print(div)"
   ]
  },
  {
   "cell_type": "markdown",
   "metadata": {},
   "source": [
    "5. Get a string and store word by word as elements in a tuple and find the largest word in the tuple and print it"
   ]
  },
  {
   "cell_type": "code",
   "execution_count": 5,
   "metadata": {},
   "outputs": [
    {
     "name": "stdout",
     "output_type": "stream",
     "text": [
      "Enter a string: India is my country. It's beautiful country\n",
      "beautiful\n"
     ]
    }
   ],
   "source": [
    "txt = input(\"Enter a string: \")\n",
    "words = txt.split()\n",
    "t = list()\n",
    "for word in words:\n",
    "    t.append((len(word), word))\n",
    "t.sort(reverse=True)\n",
    "\n",
    "res = list()\n",
    "for length, word in t:\n",
    "    res.append(word)\n",
    "\n",
    "print(res[0])"
   ]
  },
  {
   "cell_type": "markdown",
   "metadata": {},
   "source": [
    "6. Get roll no and marks (Roll no, mark) as list of tuples for n number of students through keyboard and print them in marks descending order with roll no."
   ]
  },
  {
   "cell_type": "code",
   "execution_count": 6,
   "metadata": {},
   "outputs": [
    {
     "name": "stdout",
     "output_type": "stream",
     "text": [
      "Enter number of people:4\n",
      "Enter Roll no and Marks: 9 24\n",
      "Enter Roll no and Marks: 6 23.5\n",
      "Enter Roll no and Marks: 14 17.3\n",
      "Enter Roll no and Marks: 3 21.8\n",
      "[(14, 17.3), (9, 24.0), (6, 23.5), (3, 21.8)]\n"
     ]
    }
   ],
   "source": [
    "list = []\n",
    "n = int(input(\"Enter number of people:\"))\n",
    "for i in range(n):\n",
    "    roll, marks = input(\"Enter Roll no and Marks: \").split()\n",
    "    roll, marks = int(roll), float(marks)\n",
    "    list.append((roll, marks))\n",
    "list.sort()\n",
    "list.reverse()\n",
    "print(list)"
   ]
  },
  {
   "cell_type": "markdown",
   "metadata": {},
   "source": [
    "7. Get name and salary (name, salary) as list of tuples for n number of employees through keyboard and print them in name alphabetical order with salary"
   ]
  },
  {
   "cell_type": "code",
   "execution_count": 7,
   "metadata": {},
   "outputs": [
    {
     "name": "stdout",
     "output_type": "stream",
     "text": [
      "Enter number of employees:5\n",
      "Enter name and salary: Ravi 35000\n",
      "Enter name and salary: Nicy 32000\n",
      "Enter name and salary: Somu 33000\n",
      "Enter name and salary: Abhi 31000\n",
      "Enter name and salary: Lax 35000\n",
      "[('Abhi', 31000.0), ('Lax', 35000.0), ('Nicy', 32000.0), ('Ravi', 35000.0), ('Somu', 33000.0)]\n"
     ]
    }
   ],
   "source": [
    "list = []\n",
    "n = int(input(\"Enter number of employees:\"))\n",
    "for i in range(n):\n",
    "    name, salary = input(\"Enter name and salary: \").split()\n",
    "    name, salary = name, float(salary)\n",
    "    list.append((name, salary))\n",
    "list.sort()\n",
    "print(list)"
   ]
  },
  {
   "cell_type": "code",
   "execution_count": null,
   "metadata": {},
   "outputs": [],
   "source": []
  }
 ],
 "metadata": {
  "kernelspec": {
   "display_name": "Python 3",
   "language": "python",
   "name": "python3"
  },
  "language_info": {
   "codemirror_mode": {
    "name": "ipython",
    "version": 3
   },
   "file_extension": ".py",
   "mimetype": "text/x-python",
   "name": "python",
   "nbconvert_exporter": "python",
   "pygments_lexer": "ipython3",
   "version": "3.7.6"
  }
 },
 "nbformat": 4,
 "nbformat_minor": 4
}
